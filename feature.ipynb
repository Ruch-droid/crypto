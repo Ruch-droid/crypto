{
  "nbformat": 4,
  "nbformat_minor": 0,
  "metadata": {
    "colab": {
      "name": "feature.ipynb",
      "provenance": [],
      "collapsed_sections": []
    },
    "kernelspec": {
      "name": "python3",
      "display_name": "Python 3"
    },
    "language_info": {
      "name": "python"
    },
    "accelerator": "GPU"
  },
  "cells": [
    {
      "cell_type": "code",
      "execution_count": null,
      "metadata": {
        "id": "fInz9R9rodct"
      },
      "outputs": [],
      "source": [
        "import pandas as pd\n",
        "import numpy as np"
      ]
    },
    {
      "cell_type": "code",
      "source": [
        "df = pd.read_csv(\"/content/drive/MyDrive/btc_trade.csv\")\n",
        "df = df.drop(['Unnamed: 0'], axis = 1)"
      ],
      "metadata": {
        "id": "_WBhS72aolN1"
      },
      "execution_count": null,
      "outputs": []
    },
    {
      "cell_type": "code",
      "source": [
        "df['datetime'] = pd.to_datetime(df['timestamp'], unit='us')\n",
        "df = df.sort_values(by='datetime',ascending=True, ignore_index=True)"
      ],
      "metadata": {
        "id": "EjiGnmvspmzE"
      },
      "execution_count": null,
      "outputs": []
    },
    {
      "cell_type": "code",
      "source": [
        "dfd = pd.DataFrame()\n",
        "dfd['close'] = df.resample('1T', on='datetime').price.last()\n",
        "dfd['open'] = df.resample('1T', on='datetime').price.first()\n",
        "dfd['high'] = df.resample('1T', on='datetime').price.max()\n",
        "dfd['low'] = df.resample('1T', on='datetime').price.min()\n",
        "dfd['price'] = df.resample('1T', on='datetime').price.mean()\n",
        "dfd['volume'] = df.resample('1T', on='datetime').amount.mean()\n",
        "dfd['datetime'] = dfd.index"
      ],
      "metadata": {
        "id": "a5NeAQm_EE1z"
      },
      "execution_count": null,
      "outputs": []
    },
    {
      "cell_type": "code",
      "source": [
        "df1 = pd.read_csv(\"/content/drive/MyDrive/btc_qoutes.csv\")\n",
        "df1 = df1.drop(['Unnamed: 0'], axis = 1)"
      ],
      "metadata": {
        "id": "0_hX0SnAqT-u"
      },
      "execution_count": null,
      "outputs": []
    },
    {
      "cell_type": "code",
      "source": [
        "df2 = pd.read_csv(\"/content/drive/MyDrive/btc_deri.csv\")\n",
        "df2 = df2.drop(['Unnamed: 0'], axis = 1)\n",
        "df2['datetime'] = pd.to_datetime(df2['timestamp'], unit='us')\n",
        "df2 = df2.sort_values(by='datetime',ascending=True, ignore_index=True)"
      ],
      "metadata": {
        "id": "EnAet4500o7B"
      },
      "execution_count": null,
      "outputs": []
    },
    {
      "cell_type": "code",
      "source": [
        "df1['datetime'] = pd.to_datetime(df1['timestamp'], unit='us')\n",
        "df1 = df1.sort_values(by='datetime',ascending=True, ignore_index=True)\n",
        "ask = df1.resample('D', on='datetime').ask_price.mean()\n",
        "bid = df1.resample('D', on='datetime').bid_price.mean()\n",
        "ab = ask - bid\n",
        "dfd['delta'] = ab\n",
        "dfd['open_interest'] = df2.resample('D', on='datetime').open_interest.last()\n",
        "#dfd.to_csv(\"/content/drive/MyDrive/btc_month.csv\")"
      ],
      "metadata": {
        "id": "r2YWCtlyx1IS"
      },
      "execution_count": null,
      "outputs": []
    },
    {
      "cell_type": "code",
      "source": [
        "dfd['TPivot'] = (dfd['high'] + dfd['low'] + dfd['close'])/3\n",
        "dfd['TR1'] = 2*dfd['TPivot'] - dfd['low']\n",
        "dfd['TS1'] = 2*dfd['TPivot'] - dfd['high']\n",
        "dfd['TR2'] = dfd['TPivot'] + (dfd['high'] - dfd['low'])\n",
        "dfd['TS2'] = dfd['TPivot'] - (dfd['high'] - dfd['low'])\n",
        "dfd['TR3'] = dfd['TPivot'] + 2*(dfd['high'] - dfd['low'])\n",
        "dfd['TS3'] = dfd['TPivot'] - 2*(dfd['high'] - dfd['low'])\n"
      ],
      "metadata": {
        "id": "Qi-URhnU56MN"
      },
      "execution_count": null,
      "outputs": []
    },
    {
      "cell_type": "code",
      "source": [
        "dfd['GGPivot'] = ( (dfd['high'] + dfd['low'])+ 3 * (dfd['close'])) / 5\n",
        "\n",
        "dfd['GGS1'] = dfd['GGPivot'] - (dfd['high'] - dfd['low']) * 0.333\n",
        "dfd['GGS2']= dfd['GGPivot'] - (dfd['high'] - dfd['low']) * 0.5\n",
        "dfd['GGS3'] =  dfd['GGPivot'] -(dfd['high'] - dfd['low']) * 0.666\n",
        "\n",
        "dfd['GGR1'] = dfd['GGPivot'] + (dfd['high'] - dfd['low']) * 0.333\n",
        "dfd['GGR2'] =  dfd['GGPivot'] + (dfd['high'] - dfd['low'])* 0.5\n",
        "dfd['GGR3'] =  dfd['GGPivot'] + (dfd['high'] - dfd['low']) * 0.666"
      ],
      "metadata": {
        "id": "H0bASC2CMG-f"
      },
      "execution_count": null,
      "outputs": []
    },
    {
      "cell_type": "code",
      "source": [
        "dfd['FBPivot'] = (dfd['high'] + dfd['low'] + dfd['close']) / 3\n",
        "dfd['FBR1'] = dfd['FBPivot'] + (.382 * (dfd['high'] - dfd['low']))\n",
        "dfd['FBR2'] = dfd['FBPivot'] + (.618 * (dfd['high'] - dfd['low']))\n",
        "dfd['FBR3'] = dfd['FBPivot'] + (1 * (dfd['high'] - dfd['low']))\n",
        "dfd['FBS3'] = dfd['FBPivot'] -(1 * (dfd['high'] - dfd['low']))\n",
        "dfd['FBS2']= dfd['FBPivot'] - (.618 *( dfd['high'] - dfd['low']))\n",
        "dfd['FBS1'] = dfd['FBPivot'] -(.382 * (dfd['high'] - dfd['low']))"
      ],
      "metadata": {
        "id": "LD0VZcEOMnzK"
      },
      "execution_count": null,
      "outputs": []
    },
    {
      "cell_type": "code",
      "source": [
        "dfd['WPivot'] = (dfd['high'] + dfd['low'] + 2 * dfd['open']) / 4\n",
        "\n",
        "dfd['WS1'] = 2 * dfd['WPivot'] - dfd['high']\n",
        "dfd['WS2'] = dfd['WPivot'] - (dfd['high'] - dfd['low'])\n",
        "dfd['WS3'] =  dfd['low'] - 2 * ( dfd['high'] - dfd['WPivot'])\n",
        "\n",
        "dfd['WR1'] = 2 * dfd['WPivot'] - dfd['low'] \n",
        "dfd['WR2']=  dfd['WPivot'] + (dfd['high'] - dfd['low'])\n",
        "dfd['WR3'] =  dfd['high'] + 2 * ( dfd['WPivot'] -  dfd['low'])\n",
        "dfd['vwap']=((dfd.price*dfd.volume)/dfd.volume)\n",
        "dfd['bear_fractal'] = (dfd['high'].shift(4).lt(dfd['high'].shift(2)) & \n",
        "                      dfd['high'].shift(3).lt(dfd['high'].shift(2)) &\n",
        "                      dfd['high'].shift(1).lt(dfd['high'].shift(2)) &\n",
        "                      dfd['high'].lt(dfd['high'].shift(2)))\n",
        "dfd['bull_fractal'] = (\n",
        "                dfd['low'].shift(4).gt(dfd['low'].shift(2)) &\n",
        "                dfd['low'].shift(3).gt(dfd['low'].shift(2)) &\n",
        "                dfd['low'].shift(1).gt(dfd['low'].shift(2)) &\n",
        "                dfd['low'].gt(dfd['high'].shift(2)))\n",
        "#dfd.to_csv('/content/drive/MyDrive/btc_min.csv')"
      ],
      "metadata": {
        "id": "ZsFwTB3tM7pz"
      },
      "execution_count": null,
      "outputs": []
    },
    {
      "cell_type": "code",
      "source": [
        ""
      ],
      "metadata": {
        "id": "a2PvQSemE_Eq"
      },
      "execution_count": null,
      "outputs": []
    },
    {
      "cell_type": "code",
      "source": [
        "a = dfd.columns\n",
        "a"
      ],
      "metadata": {
        "colab": {
          "base_uri": "https://localhost:8080/"
        },
        "id": "bQQatBs4PXvp",
        "outputId": "2dbf56bb-4ff0-46a9-e773-39fddb251c14"
      },
      "execution_count": null,
      "outputs": [
        {
          "output_type": "execute_result",
          "data": {
            "text/plain": [
              "Index(['close', 'open', 'high', 'low', 'price', 'volume', 'datetime', 'delta',\n",
              "       'open_interest', 'TPivot', 'TR1', 'TS1', 'TR2', 'TS2', 'TR3', 'TS3',\n",
              "       'GGPivot', 'GGS1', 'GGS2', 'GGS3', 'GGR1', 'GGR2', 'GGR3', 'FBPivot',\n",
              "       'FBR1', 'FBR2', 'FBR3', 'FBS3', 'FBS2', 'FBS1', 'WPivot', 'WS1', 'WS2',\n",
              "       'WS3', 'WR1', 'WR2', 'WR3', 'vwap', 'bear_fractal', 'bull_fractal'],\n",
              "      dtype='object')"
            ]
          },
          "metadata": {},
          "execution_count": 12
        }
      ]
    }
  ]
}