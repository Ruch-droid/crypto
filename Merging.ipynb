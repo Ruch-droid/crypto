{
 "cells": [
  {
   "cell_type": "code",
   "execution_count": 1,
   "id": "1cec5b90",
   "metadata": {},
   "outputs": [],
   "source": [
    "import pandas as pd\n",
    "import os\n",
    "\n",
    "def read_files(files='/'):\n",
    "    datalist=[]\n",
    "    for file in files:\n",
    "        file = pd.read_csv(f'/home/kkr/Downloads/crypto/newdata/ticker/'+file, compression='gzip')\n",
    "        datalist.append(file)\n",
    "    df=pd.concat(datalist,ignore_index=True)\n",
    "    return df"
   ]
  },
  {
   "cell_type": "code",
   "execution_count": null,
   "id": "e3186997",
   "metadata": {},
   "outputs": [],
   "source": [
    "file=os.listdir('/home/kkr/Downloads/crypto/newdata/ticker')\n",
    "df=read_files(file)\n",
    "df.to_csv('/home/kkr/Downloads/crypto/newdata/data/btc_ticker.csv')"
   ]
  },
  {
   "cell_type": "code",
   "execution_count": null,
   "id": "4233e138",
   "metadata": {},
   "outputs": [],
   "source": []
  }
 ],
 "metadata": {
  "kernelspec": {
   "display_name": "Python 3 (ipykernel)",
   "language": "python",
   "name": "python3"
  },
  "language_info": {
   "codemirror_mode": {
    "name": "ipython",
    "version": 3
   },
   "file_extension": ".py",
   "mimetype": "text/x-python",
   "name": "python",
   "nbconvert_exporter": "python",
   "pygments_lexer": "ipython3",
   "version": "3.8.10"
  }
 },
 "nbformat": 4,
 "nbformat_minor": 5
}
