{
 "cells": [
  {
   "cell_type": "code",
   "execution_count": 1,
   "metadata": {
    "executionInfo": {
     "elapsed": 744,
     "status": "ok",
     "timestamp": 1651667373983,
     "user": {
      "displayName": "itish arora",
      "userId": "18257177985878382507"
     },
     "user_tz": -330
    },
    "id": "Mqmo5DdEC5cU"
   },
   "outputs": [],
   "source": [
    "import pandas as pd\n",
    "import os"
   ]
  },
  {
   "cell_type": "code",
   "execution_count": 2,
   "metadata": {
    "executionInfo": {
     "elapsed": 9,
     "status": "ok",
     "timestamp": 1651667373985,
     "user": {
      "displayName": "itish arora",
      "userId": "18257177985878382507"
     },
     "user_tz": -330
    },
    "id": "QnWeR7XXjoId"
   },
   "outputs": [],
   "source": [
    "def read_files(files='/'):\n",
    "    datalist=[]\n",
    "    for file in files:\n",
    "        file = pd.read_csv(f'/home/ruchika/Ruchika/trade/tr12/'+file, compression='gzip')\n",
    "        datalist.append(file)\n",
    "    df=pd.concat(datalist,ignore_index=True)\n",
    "    return df"
   ]
  },
  {
   "cell_type": "code",
   "execution_count": 3,
   "metadata": {
    "colab": {
     "base_uri": "https://localhost:8080/",
     "height": 328
    },
    "executionInfo": {
     "elapsed": 26031,
     "status": "error",
     "timestamp": 1651667400009,
     "user": {
      "displayName": "itish arora",
      "userId": "18257177985878382507"
     },
     "user_tz": -330
    },
    "id": "5B8zqRHfjuVm",
    "outputId": "8d3619f5-671f-49bd-e4e8-2e2d274a8ca0"
   },
   "outputs": [],
   "source": [
    "    file =os.listdir(\"/home/ruchika/Ruchika/trade/tr12/\")\n",
    "    df =read_files(file)"
   ]
  },
  {
   "cell_type": "code",
   "execution_count": 4,
   "metadata": {
    "executionInfo": {
     "elapsed": 7,
     "status": "aborted",
     "timestamp": 1651667400008,
     "user": {
      "displayName": "itish arora",
      "userId": "18257177985878382507"
     },
     "user_tz": -330
    },
    "id": "9MzB1W4DjviX"
   },
   "outputs": [],
   "source": [
    "    df.to_csv(\"/home/ruchika/Ruchika/trade/tr12.csv\")\n"
   ]
  },
  {
   "cell_type": "code",
   "execution_count": null,
   "metadata": {},
   "outputs": [],
   "source": []
  }
 ],
 "metadata": {
  "colab": {
   "authorship_tag": "ABX9TyPu1949RqFpXJ6h1Du2P4G8",
   "mount_file_id": "1_8DxkiGaLmx1vFgIOgLS3-GkOaCNBNGl",
   "name": "merged.ipynb",
   "provenance": []
  },
  "kernelspec": {
   "display_name": "Python 3 (ipykernel)",
   "language": "python",
   "name": "python3"
  },
  "language_info": {
   "codemirror_mode": {
    "name": "ipython",
    "version": 3
   },
   "file_extension": ".py",
   "mimetype": "text/x-python",
   "name": "python",
   "nbconvert_exporter": "python",
   "pygments_lexer": "ipython3",
   "version": "3.8.10"
  }
 },
 "nbformat": 4,
 "nbformat_minor": 1
}
