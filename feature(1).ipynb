{
 "cells": [
  {
   "cell_type": "code",
   "execution_count": 1,
   "metadata": {
    "id": "fInz9R9rodct"
   },
   "outputs": [],
   "source": [
    "import pandas as pd\n",
    "import numpy as np"
   ]
  },
  {
   "cell_type": "code",
   "execution_count": null,
   "metadata": {
    "id": "_WBhS72aolN1"
   },
   "outputs": [],
   "source": [
    "dfa = pd.read_csv(\"/home/ruchika/Ruchika/trade/tr1.csv\", chunksize=50)\n",
    "df = pd.concat(dfa)\n",
    "df = df.drop(['Unnamed: 0'], axis = 1)\n",
    "df"
   ]
  },
  {
   "cell_type": "code",
   "execution_count": null,
   "metadata": {
    "id": "EjiGnmvspmzE"
   },
   "outputs": [],
   "source": [
    "df['datetime'] = pd.to_datetime(df['timestamp'], unit='us')\n",
    "df = df.sort_values(by='datetime',ascending=True, ignore_index=True)\n"
   ]
  },
  {
   "cell_type": "code",
   "execution_count": null,
   "metadata": {
    "id": "a5NeAQm_EE1z"
   },
   "outputs": [],
   "source": [
    "dfd = pd.DataFrame()\n",
    "dfd['close'] = df.resample('1T', on='datetime').price.last()\n",
    "dfd['open'] = df.resample('1T', on='datetime').price.first()\n",
    "dfd['high'] = df.resample('1T', on='datetime').price.max()\n",
    "dfd['low'] = df.resample('1T', on='datetime').price.min()\n",
    "dfd['price'] = df.resample('1T', on='datetime').price.mean()\n",
    "dfd['volume'] = df.resample('1T', on='datetime').amount.mean()\n",
    "dfd['datetime'] = dfd.index"
   ]
  },
  {
   "cell_type": "code",
   "execution_count": null,
   "metadata": {
    "id": "0_hX0SnAqT-u"
   },
   "outputs": [],
   "source": [
    "dfb = pd.read_csv(\"/home/ruchika/Ruchika/quote/q1.csv\",chunksize=50)\n",
    "df1 = pd.concat(dfb)\n",
    "df1 = df1.drop(['Unnamed: 0'], axis = 1)"
   ]
  },
  {
   "cell_type": "code",
   "execution_count": null,
   "metadata": {
    "id": "EnAet4500o7B"
   },
   "outputs": [],
   "source": [
    "dfc = pd.read_csv(\"/home/ruchika/Ruchika/ticker/t1.csv\",chunksize=50)\n",
    "df2 = pd.concat(dfc)\n",
    "df2 = df2.drop(['Unnamed: 0'], axis = 1)\n",
    "df2['datetime'] = pd.to_datetime(df2['timestamp'], unit='us')\n",
    "df2 = df2.sort_values(by='datetime',ascending=True, ignore_index=True)"
   ]
  },
  {
   "cell_type": "code",
   "execution_count": null,
   "metadata": {
    "id": "r2YWCtlyx1IS"
   },
   "outputs": [],
   "source": [
    "df1['datetime'] = pd.to_datetime(df1['timestamp'], unit='us')\n",
    "df1 = df1.sort_values(by='datetime',ascending=True, ignore_index=True)\n",
    "ask = df1.resample('1T', on='datetime').ask_price.mean()\n",
    "bid = df1.resample('1T', on='datetime').bid_price.mean()\n",
    "ab = ask - bid\n",
    "dfd['delta'] = ab\n",
    "dfd['open_interest'] = df2.resample('1T', on='datetime').open_interest.last()\n",
    "#dfd.to_csv(\"/content/drive/MyDrive/btc_month.csv\")"
   ]
  },
  {
   "cell_type": "code",
   "execution_count": null,
   "metadata": {
    "id": "xIw4KJPrtVke"
   },
   "outputs": [],
   "source": [
    "dfd['datetime'] = dfd.index\n",
    "dfd['date'] = pd.to_datetime(dfd['datetime']).dt.date\n",
    "dfd = dfd.drop(['datetime'], axis=1)"
   ]
  },
  {
   "cell_type": "code",
   "execution_count": null,
   "metadata": {
    "id": "dp1UYwoHR6IS"
   },
   "outputs": [],
   "source": [
    "un = dfd['date'].unique()\n",
    "dfd1 = pd.DataFrame()\n",
    "dfd1['close'] = df.resample('D', on='datetime').price.last()\n",
    "dfd1['open'] = df.resample('D', on='datetime').price.first()\n",
    "dfd1['high'] = df.resample('D', on='datetime').price.max()\n",
    "dfd1['low'] = df.resample('D', on='datetime').price.min()\n",
    "dfd1['price'] = df.resample('D', on='datetime').price.mean()\n",
    "dfd1['volume'] = df.resample('D', on='datetime').amount.mean()\n",
    "dfd1['date'] = dfd1.index\n",
    "high_low = dfd['high'] - dfd['low']\n",
    "high_close = np.abs(dfd1['high'] - dfd1['close'].shift())\n",
    "low_close = np.abs(dfd1['low'] - dfd1['close'].shift())\n",
    "ranges = pd.concat([high_low, high_close, low_close], axis=1)\n",
    "true_range = np.max(ranges, axis=1)\n",
    "dfd['atr'] = true_range.rolling(14).sum()/14\n",
    "dfd['vwap']=((dfd.price*dfd.volume)/dfd.volume)\n",
    "dfd['bear_fractal'] = (dfd['high'].shift(4).lt(dfd['high'].shift(2)) & \n",
    "                      dfd['high'].shift(3).lt(dfd['high'].shift(2)) &\n",
    "                      dfd['high'].shift(1).lt(dfd['high'].shift(2)) &\n",
    "                      dfd['high'].lt(dfd['high'].shift(2)))\n",
    "dfd['bull_fractal'] = (\n",
    "                dfd['low'].shift(4).gt(dfd['low'].shift(2)) &\n",
    "                dfd['low'].shift(3).gt(dfd['low'].shift(2)) &\n",
    "                dfd['low'].shift(1).gt(dfd['low'].shift(2)) &\n",
    "                dfd['low'].gt(dfd['high'].shift(2)))\n",
    "dfd['symbol'] = \"BTCUSD\"\n",
    "dd = dfd1.copy()\n",
    "dfd.to_csv(\"/home/ruchika/Ruchika/data/1.csv\")"
   ]
  }
 ],
 "metadata": {
  "colab": {
   "collapsed_sections": [],
   "name": "feature.ipynb",
   "provenance": []
  },
  "kernelspec": {
   "display_name": "Python 3 (ipykernel)",
   "language": "python",
   "name": "python3"
  },
  "language_info": {
   "codemirror_mode": {
    "name": "ipython",
    "version": 3
   },
   "file_extension": ".py",
   "mimetype": "text/x-python",
   "name": "python",
   "nbconvert_exporter": "python",
   "pygments_lexer": "ipython3",
   "version": "3.8.10"
  }
 },
 "nbformat": 4,
 "nbformat_minor": 1
}
